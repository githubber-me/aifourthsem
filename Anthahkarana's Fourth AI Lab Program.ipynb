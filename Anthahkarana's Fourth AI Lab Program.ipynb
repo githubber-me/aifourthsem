{
 "cells": [
  {
   "cell_type": "code",
   "execution_count": 1,
   "id": "c675c909",
   "metadata": {},
   "outputs": [
    {
     "name": "stdout",
     "output_type": "stream",
     "text": [
      "Updated Cost :\n",
      "G : {'OR': ['I']} >>> {'I': 8}\n",
      "D : {'AND': ['E', 'F']} >>> {'E AND F': 5}\n",
      "C : {'OR': ['J']} >>> {'J': 2}\n",
      "B : {'OR': ['G', 'H']} >>> {'G OR H': 8}\n",
      "A : {'OR': ['D'], 'AND': ['B', 'C']} >>> {'B AND C': 12, 'D': 6}\n",
      "***************************************************************************\n",
      "Shortest Path :\n",
      " A = D=(E AND F) [E + F]\n"
     ]
    }
   ],
   "source": [
    "def Cost(H, condition, weight=1):\n",
    "    cost = {} \n",
    "    \n",
    "    if 'AND' in condition:\n",
    "        AND_nodes = condition['AND']\n",
    "        Path_A = ' AND '.join(AND_nodes)\n",
    "        PathA = sum(H[node] + weight for node in AND_nodes)\n",
    "        cost[Path_A] = PathA\n",
    "        \n",
    "    if 'OR' in condition:\n",
    "        OR_nodes = condition['OR']\n",
    "        Path_B = ' OR '.join(OR_nodes)\n",
    "        PathB = min(H[node] + weight for node in OR_nodes)\n",
    "        cost[Path_B] = PathB\n",
    "        \n",
    "    return cost\n",
    "\n",
    "def update_cost(H, Conditions, weight=1):\n",
    "    Main_nodes = list(Conditions.keys())\n",
    "    Main_nodes.reverse()\n",
    "    least_cost = {}\n",
    "    \n",
    "    for key in Main_nodes:\n",
    "        condition = Conditions[key]\n",
    "        print(key, ':', Conditions[key], '>>>', Cost(H, condition, weight))\n",
    "        c = Cost(H, condition, weight)\n",
    "        H[key] = min(c.values())\n",
    "        least_cost[key] = Cost(H, condition, weight)\n",
    "        \n",
    "    return least_cost\n",
    "\n",
    "def shortest_path(Start, Updated_cost, H):\n",
    "    Path = Start\n",
    "    \n",
    "    if Start in Updated_cost.keys():\n",
    "        Min_cost = min(Updated_cost[Start].values())\n",
    "        key = list(Updated_cost[Start].keys())\n",
    "        values = list(Updated_cost[Start].values())\n",
    "        Index = values.index(Min_cost)\n",
    "\n",
    "        Next = key[Index].split()\n",
    "        \n",
    "        if len(Next) == 1:\n",
    "            Start = Next[0]\n",
    "            Path += ' = ' + shortest_path(Start, Updated_cost, H)\n",
    "        else:\n",
    "            Path += '=(' + key[Index] + ') '\n",
    "            Start = Next[0]\n",
    "            Path += '[' + shortest_path(Start, Updated_cost, H) + ' + '\n",
    "            Start = Next[-1]\n",
    "            Path += shortest_path(Start, Updated_cost, H) + ']'\n",
    "    \n",
    "    return Path\n",
    "\n",
    "H1 = {'A': 1, 'B': 6, 'C': 2, 'D': 12, 'E': 2, 'F': 1, 'G': 5, 'H': 7, 'I': 7, 'J': 1, 'T': 3}\n",
    "Conditions = {\n",
    "'A': {'OR': ['D'], 'AND': ['B', 'C']},\n",
    "'B': {'OR': ['G', 'H']}, \n",
    "'C': {'OR': ['J']},\n",
    "'D': {'AND': ['E', 'F']},\n",
    "'G': {'OR': ['I']}\n",
    "}\n",
    "weight = 1\n",
    "print('Updated Cost :')\n",
    "Updated_cost = update_cost(H1, Conditions, weight=1)\n",
    "print('*'*75)\n",
    "print('Shortest Path :\\n',shortest_path('A', Updated_cost,H1))"
   ]
  },
  {
   "cell_type": "code",
   "execution_count": null,
   "id": "779a1389",
   "metadata": {},
   "outputs": [],
   "source": []
  }
 ],
 "metadata": {
  "kernelspec": {
   "display_name": "Python 3 (ipykernel)",
   "language": "python",
   "name": "python3"
  },
  "language_info": {
   "codemirror_mode": {
    "name": "ipython",
    "version": 3
   },
   "file_extension": ".py",
   "mimetype": "text/x-python",
   "name": "python",
   "nbconvert_exporter": "python",
   "pygments_lexer": "ipython3",
   "version": "3.9.12"
  }
 },
 "nbformat": 4,
 "nbformat_minor": 5
}
